{
 "cells": [
  {
   "cell_type": "markdown",
   "id": "e8b8ac09",
   "metadata": {},
   "source": [
    "### Name : Ghosh Kushanava Amitava\n",
    "### Roll No : 220123083\n",
    "### Course : MA323"
   ]
  },
  {
   "cell_type": "code",
   "execution_count": 34,
   "id": "da4ecc61",
   "metadata": {},
   "outputs": [],
   "source": [
    "import numpy as np\n",
    "import scipy.integrate as integral"
   ]
  },
  {
   "cell_type": "code",
   "execution_count": 24,
   "id": "bd879319",
   "metadata": {},
   "outputs": [],
   "source": [
    "# Linear Congruential Generator (LCG)\n",
    "def lcg(a, c, m, seed, n):\n",
    "    random_numbers = []\n",
    "    X = seed\n",
    "    for _ in range(n):\n",
    "        X = (a * X + c) % m\n",
    "        random_numbers.append(X / m)  # Normalizing to [0, 1]\n",
    "    return np.array(random_numbers)"
   ]
  },
  {
   "cell_type": "code",
   "execution_count": 25,
   "id": "7b205cf6",
   "metadata": {},
   "outputs": [],
   "source": [
    "# Define the function h(U) = exp(sqrt(U)) in the given question\n",
    "def h(U):\n",
    "    return np.exp(np.sqrt(U))"
   ]
  },
  {
   "cell_type": "code",
   "execution_count": 26,
   "id": "ccf1b849",
   "metadata": {},
   "outputs": [],
   "source": [
    "# Monte Carlo Integration using LCG-generated random numbers\n",
    "def mci(n, h, a, c, m, seed):\n",
    "    # Generate n uniform random numbers using LCG\n",
    "    U = lcg(a, c, m, seed, n)\n",
    "    \n",
    "    # Apply the function h to each random number\n",
    "    f_u = h(U)\n",
    "    \n",
    "    # Computing the Monte Carlo estimate\n",
    "    mu = np.mean(f_u)\n",
    "    \n",
    "    return mu, f_u"
   ]
  },
  {
   "cell_type": "code",
   "execution_count": 27,
   "id": "7d359a7f",
   "metadata": {},
   "outputs": [],
   "source": [
    "def confidence_95(seq, sample):\n",
    "    mu = np.mean(seq)\n",
    "    s = 0\n",
    "    for i in range(1, sample):\n",
    "        s = s + i/(i+1) * (seq[i] - mu)**2\n",
    "    s /= (sample-1)\n",
    "    lower = mu - 1.96*(s/sample)**0.5\n",
    "    upper = mu + 1.96*(s/sample)**0.5\n",
    "    return lower, upper, mu, s"
   ]
  },
  {
   "cell_type": "code",
   "execution_count": 37,
   "id": "ae5e4e98",
   "metadata": {},
   "outputs": [
    {
     "name": "stdout",
     "output_type": "stream",
     "text": [
      "Monte Carlo estimate of I using LCG for M = 100: 2.009095489214785\n",
      "Confidence Level : (1.9217422309406598, 2.09644874748891)\n",
      "Length of interval : 0.1747065165482502\n",
      "\n",
      "Monte Carlo estimate of I using LCG for M = 1000: 2.0192643016513276\n",
      "Confidence Level : (1.992647676470545, 2.04588092683211)\n",
      "Length of interval : 0.05323325036156512\n",
      "\n",
      "Monte Carlo estimate of I using LCG for M = 10000: 2.005555001818985\n",
      "Confidence Level : (1.9968538814874779, 2.0142561221504924)\n",
      "Length of interval : 0.017402240663014545\n",
      "\n",
      "Monte Carlo estimate of I using LCG for M = 100000: 2.0020279077765166\n",
      "Confidence Level : (1.9993004761739859, 2.0047553393790474)\n",
      "Length of interval : 0.0054548632050615\n",
      "\n"
     ]
    }
   ],
   "source": [
    "# Parameters for LCG\n",
    "a = 1664525\n",
    "c = 1013904223\n",
    "m = 2**32\n",
    "seed = 42  # Initial seed\n",
    "\n",
    "# Number of Monte Carlo samples\n",
    "samples = [10**2, 10**3, 10**4, 10**5]\n",
    "\n",
    "# Perform Monte Carlo Integration\n",
    "for sample in samples:\n",
    "    estimate, seq = mci(sample, h, a, c, m, seed)\n",
    "    lower, upper, mu, s = confidence_95(seq, sample)\n",
    "    print(f\"Monte Carlo estimate of I using LCG for M = {sample}: {estimate}\")\n",
    "    print(f\"Confidence Level : {lower, upper}\")\n",
    "    print(f\"Length of interval : {upper-lower}\")\n",
    "    print(\"\")"
   ]
  },
  {
   "cell_type": "code",
   "execution_count": 35,
   "id": "8d57386a",
   "metadata": {},
   "outputs": [
    {
     "name": "stdout",
     "output_type": "stream",
     "text": [
      "Exact value of I is 2.0000000000000004\n"
     ]
    }
   ],
   "source": [
    "# Computing exact value of I\n",
    "exact, _ = integral.quad(h, 0, 1)\n",
    "print(f\"Exact value of I is {exact}\")"
   ]
  },
  {
   "cell_type": "markdown",
   "id": "b15af2a0",
   "metadata": {},
   "source": [
    "### Conclusion : With increasing value of M, the estimated value approaches the exact value of the integral and length of the confidence level interval decreases"
   ]
  },
  {
   "cell_type": "code",
   "execution_count": null,
   "id": "f3f7463e",
   "metadata": {},
   "outputs": [],
   "source": []
  }
 ],
 "metadata": {
  "kernelspec": {
   "display_name": "Python 3 (ipykernel)",
   "language": "python",
   "name": "python3"
  },
  "language_info": {
   "codemirror_mode": {
    "name": "ipython",
    "version": 3
   },
   "file_extension": ".py",
   "mimetype": "text/x-python",
   "name": "python",
   "nbconvert_exporter": "python",
   "pygments_lexer": "ipython3",
   "version": "3.9.13"
  }
 },
 "nbformat": 4,
 "nbformat_minor": 5
}
